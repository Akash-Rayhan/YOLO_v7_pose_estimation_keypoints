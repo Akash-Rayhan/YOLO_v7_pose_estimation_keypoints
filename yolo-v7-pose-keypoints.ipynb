{
 "cells": [
  {
   "cell_type": "code",
   "execution_count": 1,
   "id": "6c43395a",
   "metadata": {
    "_cell_guid": "b1076dfc-b9ad-4769-8c92-a6c4dae69d19",
    "_uuid": "8f2839f25d086af736a60e9eeb907d3b93b6e0e5",
    "execution": {
     "iopub.execute_input": "2022-11-24T13:58:46.238449Z",
     "iopub.status.busy": "2022-11-24T13:58:46.238012Z",
     "iopub.status.idle": "2022-11-24T13:58:49.028229Z",
     "shell.execute_reply": "2022-11-24T13:58:49.027178Z"
    },
    "papermill": {
     "duration": 2.798399,
     "end_time": "2022-11-24T13:58:49.031357",
     "exception": false,
     "start_time": "2022-11-24T13:58:46.232958",
     "status": "completed"
    },
    "tags": []
   },
   "outputs": [
    {
     "name": "stdout",
     "output_type": "stream",
     "text": [
      "/kaggle/input/yolov7-weights/yolov7-e6.pt\n",
      "/kaggle/input/yolov7-weights/yolov7-d6.pt\n",
      "/kaggle/input/yolov7-weights/yolov7x.pt\n",
      "/kaggle/input/yolov7-weights/yolov7-e6e.pt\n",
      "/kaggle/input/yolov7-weights/yolov7-tiny.pt\n",
      "/kaggle/input/yolov7-weights/zidane.jpeg\n",
      "/kaggle/input/yolov7-weights/yolov7-w6-pose.pt\n",
      "/kaggle/input/yolov7-weights/yolov7.pt\n",
      "/kaggle/input/yolov7-weights/yolov7-w6.pt\n",
      "/kaggle/input/yolov7-weights/yolov7-mask.pt\n"
     ]
    }
   ],
   "source": [
    "# This Python 3 environment comes with many helpful analytics libraries installed\n",
    "# It is defined by the kaggle/python Docker image: https://github.com/kaggle/docker-python\n",
    "# For example, here's several helpful packages to load\n",
    "\n",
    "import numpy as np # linear algebra\n",
    "import pandas as pd # data processing, CSV file I/O (e.g. pd.read_csv)\n",
    "import sys\n",
    "sys.path.append(\"/kaggle/input/yolov7-lib/yolov7-main\")\n",
    "import matplotlib.pyplot as plt\n",
    "import torch\n",
    "import cv2\n",
    "from torchvision import transforms\n",
    "import numpy as np\n",
    "from utils.datasets import letterbox\n",
    "from utils.general import non_max_suppression_kpt\n",
    "from utils.plots import output_to_keypoint, plot_skeleton_kpts\n",
    "\n",
    "# Input data files are available in the read-only \"../input/\" directory\n",
    "# For example, running this (by clicking run or pressing Shift+Enter) will list all files under the input directory\n",
    "\n",
    "import os\n",
    "for dirname, _, filenames in os.walk('/kaggle/input/yolov7-weights'):\n",
    "    for filename in filenames:\n",
    "        print(os.path.join(dirname, filename))\n",
    "\n",
    "# You can write up to 20GB to the current directory (/kaggle/working/) that gets preserved as output when you create a version using \"Save & Run All\" \n",
    "# You can also write temporary files to /kaggle/temp/, but they won't be saved outside of the current session"
   ]
  },
  {
   "cell_type": "code",
   "execution_count": 2,
   "id": "1b717ae2",
   "metadata": {
    "execution": {
     "iopub.execute_input": "2022-11-24T13:58:49.039660Z",
     "iopub.status.busy": "2022-11-24T13:58:49.038649Z",
     "iopub.status.idle": "2022-11-24T13:58:54.039627Z",
     "shell.execute_reply": "2022-11-24T13:58:54.038658Z"
    },
    "papermill": {
     "duration": 5.006997,
     "end_time": "2022-11-24T13:58:54.042032",
     "exception": false,
     "start_time": "2022-11-24T13:58:49.035035",
     "status": "completed"
    },
    "tags": []
   },
   "outputs": [],
   "source": [
    "\n",
    "device = torch.device(\"cuda:0\" if torch.cuda.is_available() else \"cpu\")\n",
    "# load pre-trained weights\n",
    "weigths = torch.load('/kaggle/input/yolov7-weights/yolov7-w6-pose.pt', map_location=device)\n",
    "model = weigths['model']\n",
    "_ = model.float().eval()\n",
    "if torch.cuda.is_available():\n",
    "    model.half().to(device)"
   ]
  },
  {
   "cell_type": "code",
   "execution_count": 3,
   "id": "da330618",
   "metadata": {
    "execution": {
     "iopub.execute_input": "2022-11-24T13:58:54.050184Z",
     "iopub.status.busy": "2022-11-24T13:58:54.048621Z",
     "iopub.status.idle": "2022-11-24T14:02:24.422903Z",
     "shell.execute_reply": "2022-11-24T14:02:24.421925Z"
    },
    "papermill": {
     "duration": 210.380464,
     "end_time": "2022-11-24T14:02:24.425427",
     "exception": false,
     "start_time": "2022-11-24T13:58:54.044963",
     "status": "completed"
    },
    "tags": []
   },
   "outputs": [
    {
     "name": "stderr",
     "output_type": "stream",
     "text": [
      "/opt/conda/lib/python3.7/site-packages/torch/functional.py:568: UserWarning: torch.meshgrid: in an upcoming release, it will be required to pass the indexing argument. (Triggered internally at  /usr/local/src/pytorch/aten/src/ATen/native/TensorShape.cpp:2227.)\n",
      "  return _VF.meshgrid(tensors, **kwargs)  # type: ignore[attr-defined]\n"
     ]
    }
   ],
   "source": [
    "import gc\n",
    "key_points_dict = {}\n",
    "images_path = '/kaggle/input/dataset/images/'\n",
    "images = os.listdir(images_path)\n",
    "#iterate over the images\n",
    "for img in images:\n",
    "    #no_grad() to my model tells PyTorch that I don't want to store any previous computations, thus freeing my GPU space.\n",
    "    with torch.no_grad():\n",
    "        \n",
    "        ## Transform image from numpy to torch format    \n",
    "        image = cv2.imread(images_path+img)\n",
    "        image = letterbox(image, 640, stride=64, auto=True)[0]\n",
    "        image = transforms.ToTensor()(image)\n",
    "        image = torch.tensor(np.array([image.numpy()]))\n",
    "        \n",
    "        if torch.cuda.is_available():\n",
    "            image = image.half().to(device)   \n",
    "        output, _ = model(image)\n",
    "        output = non_max_suppression_kpt(output, 0.25, 0.65, nc=model.yaml['nc'], nkpt=model.yaml['nkpt'], kpt_label=True)\n",
    "        \n",
    "        keypoints = output_to_keypoint(output)\n",
    "        # iterate for multiple figures in an image\n",
    "        for idx in range(keypoints.shape[0]):\n",
    "            keypoints_list = keypoints[idx,7:].tolist()\n",
    "        key_points_dict[img] = keypoints_list\n",
    "        \n",
    "    del image, output\n",
    "    torch.cuda.empty_cache()\n",
    "    gc.collect()\n",
    "        \n"
   ]
  },
  {
   "cell_type": "code",
   "execution_count": 4,
   "id": "b44446f4",
   "metadata": {
    "execution": {
     "iopub.execute_input": "2022-11-24T14:02:24.434250Z",
     "iopub.status.busy": "2022-11-24T14:02:24.432637Z",
     "iopub.status.idle": "2022-11-24T14:02:24.442677Z",
     "shell.execute_reply": "2022-11-24T14:02:24.441761Z"
    },
    "papermill": {
     "duration": 0.015921,
     "end_time": "2022-11-24T14:02:24.444666",
     "exception": false,
     "start_time": "2022-11-24T14:02:24.428745",
     "status": "completed"
    },
    "tags": []
   },
   "outputs": [],
   "source": [
    "key_points_df = pd.DataFrame(key_points_dict.items(),columns=[\"image_id\",\"key_points\"])"
   ]
  },
  {
   "cell_type": "code",
   "execution_count": 5,
   "id": "a1287d59",
   "metadata": {
    "execution": {
     "iopub.execute_input": "2022-11-24T14:02:24.451889Z",
     "iopub.status.busy": "2022-11-24T14:02:24.451102Z",
     "iopub.status.idle": "2022-11-24T14:02:24.470433Z",
     "shell.execute_reply": "2022-11-24T14:02:24.469461Z"
    },
    "papermill": {
     "duration": 0.025452,
     "end_time": "2022-11-24T14:02:24.472938",
     "exception": false,
     "start_time": "2022-11-24T14:02:24.447486",
     "status": "completed"
    },
    "tags": []
   },
   "outputs": [
    {
     "data": {
      "text/html": [
       "<div>\n",
       "<style scoped>\n",
       "    .dataframe tbody tr th:only-of-type {\n",
       "        vertical-align: middle;\n",
       "    }\n",
       "\n",
       "    .dataframe tbody tr th {\n",
       "        vertical-align: top;\n",
       "    }\n",
       "\n",
       "    .dataframe thead th {\n",
       "        text-align: right;\n",
       "    }\n",
       "</style>\n",
       "<table border=\"1\" class=\"dataframe\">\n",
       "  <thead>\n",
       "    <tr style=\"text-align: right;\">\n",
       "      <th></th>\n",
       "      <th>image_id</th>\n",
       "      <th>key_points</th>\n",
       "    </tr>\n",
       "  </thead>\n",
       "  <tbody>\n",
       "    <tr>\n",
       "      <th>0</th>\n",
       "      <td>Image_5576.jpg</td>\n",
       "      <td>[290.25, 195.875, 0.9794921875, 321.25, 199.25...</td>\n",
       "    </tr>\n",
       "    <tr>\n",
       "      <th>1</th>\n",
       "      <td>Image_8010.jpg</td>\n",
       "      <td>[384.5, 151.5, 0.8916015625, 389.0, 147.25, 0....</td>\n",
       "    </tr>\n",
       "    <tr>\n",
       "      <th>2</th>\n",
       "      <td>Image_5775.jpg</td>\n",
       "      <td>[290.75, 183.0, 0.9921875, 295.0, 177.625, 0.9...</td>\n",
       "    </tr>\n",
       "    <tr>\n",
       "      <th>3</th>\n",
       "      <td>Image_7411.jpg</td>\n",
       "      <td>[287.5, 253.75, 0.99560546875, 287.5, 231.875,...</td>\n",
       "    </tr>\n",
       "    <tr>\n",
       "      <th>4</th>\n",
       "      <td>Image_4172.jpg</td>\n",
       "      <td>[123.0, 229.625, 0.9912109375, 117.375, 214.0,...</td>\n",
       "    </tr>\n",
       "  </tbody>\n",
       "</table>\n",
       "</div>"
      ],
      "text/plain": [
       "         image_id                                         key_points\n",
       "0  Image_5576.jpg  [290.25, 195.875, 0.9794921875, 321.25, 199.25...\n",
       "1  Image_8010.jpg  [384.5, 151.5, 0.8916015625, 389.0, 147.25, 0....\n",
       "2  Image_5775.jpg  [290.75, 183.0, 0.9921875, 295.0, 177.625, 0.9...\n",
       "3  Image_7411.jpg  [287.5, 253.75, 0.99560546875, 287.5, 231.875,...\n",
       "4  Image_4172.jpg  [123.0, 229.625, 0.9912109375, 117.375, 214.0,..."
      ]
     },
     "execution_count": 5,
     "metadata": {},
     "output_type": "execute_result"
    }
   ],
   "source": [
    "key_points_df.head(5)"
   ]
  },
  {
   "cell_type": "code",
   "execution_count": 6,
   "id": "74acb733",
   "metadata": {
    "execution": {
     "iopub.execute_input": "2022-11-24T14:02:24.479799Z",
     "iopub.status.busy": "2022-11-24T14:02:24.479534Z",
     "iopub.status.idle": "2022-11-24T14:02:24.490393Z",
     "shell.execute_reply": "2022-11-24T14:02:24.489574Z"
    },
    "papermill": {
     "duration": 0.0166,
     "end_time": "2022-11-24T14:02:24.492466",
     "exception": false,
     "start_time": "2022-11-24T14:02:24.475866",
     "status": "completed"
    },
    "tags": []
   },
   "outputs": [],
   "source": [
    "header_list = [\"image_id\", \"labels\"]\n",
    "labels_df = pd.read_csv('/kaggle/input/labels/labels.csv',names=header_list)"
   ]
  },
  {
   "cell_type": "code",
   "execution_count": 7,
   "id": "a8c5554a",
   "metadata": {
    "execution": {
     "iopub.execute_input": "2022-11-24T14:02:24.499990Z",
     "iopub.status.busy": "2022-11-24T14:02:24.499180Z",
     "iopub.status.idle": "2022-11-24T14:02:24.507958Z",
     "shell.execute_reply": "2022-11-24T14:02:24.506974Z"
    },
    "papermill": {
     "duration": 0.01512,
     "end_time": "2022-11-24T14:02:24.510507",
     "exception": false,
     "start_time": "2022-11-24T14:02:24.495387",
     "status": "completed"
    },
    "tags": []
   },
   "outputs": [
    {
     "data": {
      "text/html": [
       "<div>\n",
       "<style scoped>\n",
       "    .dataframe tbody tr th:only-of-type {\n",
       "        vertical-align: middle;\n",
       "    }\n",
       "\n",
       "    .dataframe tbody tr th {\n",
       "        vertical-align: top;\n",
       "    }\n",
       "\n",
       "    .dataframe thead th {\n",
       "        text-align: right;\n",
       "    }\n",
       "</style>\n",
       "<table border=\"1\" class=\"dataframe\">\n",
       "  <thead>\n",
       "    <tr style=\"text-align: right;\">\n",
       "      <th></th>\n",
       "      <th>image_id</th>\n",
       "      <th>labels</th>\n",
       "    </tr>\n",
       "  </thead>\n",
       "  <tbody>\n",
       "    <tr>\n",
       "      <th>0</th>\n",
       "      <td>Image_1.jpg</td>\n",
       "      <td>sitting</td>\n",
       "    </tr>\n",
       "    <tr>\n",
       "      <th>1</th>\n",
       "      <td>Image_4.jpg</td>\n",
       "      <td>sleeping</td>\n",
       "    </tr>\n",
       "    <tr>\n",
       "      <th>2</th>\n",
       "      <td>Image_6.jpg</td>\n",
       "      <td>sleeping</td>\n",
       "    </tr>\n",
       "    <tr>\n",
       "      <th>3</th>\n",
       "      <td>Image_15.jpg</td>\n",
       "      <td>sleeping</td>\n",
       "    </tr>\n",
       "    <tr>\n",
       "      <th>4</th>\n",
       "      <td>Image_33.jpg</td>\n",
       "      <td>sitting</td>\n",
       "    </tr>\n",
       "  </tbody>\n",
       "</table>\n",
       "</div>"
      ],
      "text/plain": [
       "       image_id    labels\n",
       "0   Image_1.jpg   sitting\n",
       "1   Image_4.jpg  sleeping\n",
       "2   Image_6.jpg  sleeping\n",
       "3  Image_15.jpg  sleeping\n",
       "4  Image_33.jpg   sitting"
      ]
     },
     "execution_count": 7,
     "metadata": {},
     "output_type": "execute_result"
    }
   ],
   "source": [
    "labels_df.head(5)"
   ]
  },
  {
   "cell_type": "code",
   "execution_count": 8,
   "id": "079ed63f",
   "metadata": {
    "execution": {
     "iopub.execute_input": "2022-11-24T14:02:24.517568Z",
     "iopub.status.busy": "2022-11-24T14:02:24.517304Z",
     "iopub.status.idle": "2022-11-24T14:02:24.535754Z",
     "shell.execute_reply": "2022-11-24T14:02:24.534914Z"
    },
    "papermill": {
     "duration": 0.024255,
     "end_time": "2022-11-24T14:02:24.537792",
     "exception": false,
     "start_time": "2022-11-24T14:02:24.513537",
     "status": "completed"
    },
    "tags": []
   },
   "outputs": [],
   "source": [
    "\n",
    "unbalanced_keypoints_df = pd.merge(left=key_points_df,right=labels_df,how='inner',on='image_id')"
   ]
  },
  {
   "cell_type": "code",
   "execution_count": 9,
   "id": "ad83f2ec",
   "metadata": {
    "execution": {
     "iopub.execute_input": "2022-11-24T14:02:24.544778Z",
     "iopub.status.busy": "2022-11-24T14:02:24.544522Z",
     "iopub.status.idle": "2022-11-24T14:02:24.557174Z",
     "shell.execute_reply": "2022-11-24T14:02:24.556279Z"
    },
    "papermill": {
     "duration": 0.018326,
     "end_time": "2022-11-24T14:02:24.559098",
     "exception": false,
     "start_time": "2022-11-24T14:02:24.540772",
     "status": "completed"
    },
    "tags": []
   },
   "outputs": [
    {
     "data": {
      "text/html": [
       "<div>\n",
       "<style scoped>\n",
       "    .dataframe tbody tr th:only-of-type {\n",
       "        vertical-align: middle;\n",
       "    }\n",
       "\n",
       "    .dataframe tbody tr th {\n",
       "        vertical-align: top;\n",
       "    }\n",
       "\n",
       "    .dataframe thead th {\n",
       "        text-align: right;\n",
       "    }\n",
       "</style>\n",
       "<table border=\"1\" class=\"dataframe\">\n",
       "  <thead>\n",
       "    <tr style=\"text-align: right;\">\n",
       "      <th></th>\n",
       "      <th>image_id</th>\n",
       "      <th>key_points</th>\n",
       "      <th>labels</th>\n",
       "    </tr>\n",
       "  </thead>\n",
       "  <tbody>\n",
       "    <tr>\n",
       "      <th>0</th>\n",
       "      <td>Image_5576.jpg</td>\n",
       "      <td>[290.25, 195.875, 0.9794921875, 321.25, 199.25...</td>\n",
       "      <td>sleeping</td>\n",
       "    </tr>\n",
       "    <tr>\n",
       "      <th>1</th>\n",
       "      <td>Image_8010.jpg</td>\n",
       "      <td>[384.5, 151.5, 0.8916015625, 389.0, 147.25, 0....</td>\n",
       "      <td>running</td>\n",
       "    </tr>\n",
       "    <tr>\n",
       "      <th>2</th>\n",
       "      <td>Image_5775.jpg</td>\n",
       "      <td>[290.75, 183.0, 0.9921875, 295.0, 177.625, 0.9...</td>\n",
       "      <td>sitting</td>\n",
       "    </tr>\n",
       "    <tr>\n",
       "      <th>3</th>\n",
       "      <td>Image_7411.jpg</td>\n",
       "      <td>[287.5, 253.75, 0.99560546875, 287.5, 231.875,...</td>\n",
       "      <td>sleeping</td>\n",
       "    </tr>\n",
       "    <tr>\n",
       "      <th>4</th>\n",
       "      <td>Image_4172.jpg</td>\n",
       "      <td>[123.0, 229.625, 0.9912109375, 117.375, 214.0,...</td>\n",
       "      <td>sleeping</td>\n",
       "    </tr>\n",
       "  </tbody>\n",
       "</table>\n",
       "</div>"
      ],
      "text/plain": [
       "         image_id                                         key_points    labels\n",
       "0  Image_5576.jpg  [290.25, 195.875, 0.9794921875, 321.25, 199.25...  sleeping\n",
       "1  Image_8010.jpg  [384.5, 151.5, 0.8916015625, 389.0, 147.25, 0....   running\n",
       "2  Image_5775.jpg  [290.75, 183.0, 0.9921875, 295.0, 177.625, 0.9...   sitting\n",
       "3  Image_7411.jpg  [287.5, 253.75, 0.99560546875, 287.5, 231.875,...  sleeping\n",
       "4  Image_4172.jpg  [123.0, 229.625, 0.9912109375, 117.375, 214.0,...  sleeping"
      ]
     },
     "execution_count": 9,
     "metadata": {},
     "output_type": "execute_result"
    }
   ],
   "source": [
    "unbalanced_keypoints_df.head(5)"
   ]
  },
  {
   "cell_type": "code",
   "execution_count": 10,
   "id": "99258690",
   "metadata": {
    "execution": {
     "iopub.execute_input": "2022-11-24T14:02:24.566316Z",
     "iopub.status.busy": "2022-11-24T14:02:24.566067Z",
     "iopub.status.idle": "2022-11-24T14:02:24.609932Z",
     "shell.execute_reply": "2022-11-24T14:02:24.609094Z"
    },
    "papermill": {
     "duration": 0.049572,
     "end_time": "2022-11-24T14:02:24.611783",
     "exception": false,
     "start_time": "2022-11-24T14:02:24.562211",
     "status": "completed"
    },
    "tags": []
   },
   "outputs": [],
   "source": [
    "unbalanced_keypoints_df.to_csv('unbalanced_keypoints.csv',index=False)"
   ]
  }
 ],
 "metadata": {
  "kernelspec": {
   "display_name": "Python 3",
   "language": "python",
   "name": "python3"
  },
  "language_info": {
   "codemirror_mode": {
    "name": "ipython",
    "version": 3
   },
   "file_extension": ".py",
   "mimetype": "text/x-python",
   "name": "python",
   "nbconvert_exporter": "python",
   "pygments_lexer": "ipython3",
   "version": "3.7.12"
  },
  "papermill": {
   "default_parameters": {},
   "duration": 227.047622,
   "end_time": "2022-11-24T14:02:25.836831",
   "environment_variables": {},
   "exception": null,
   "input_path": "__notebook__.ipynb",
   "output_path": "__notebook__.ipynb",
   "parameters": {},
   "start_time": "2022-11-24T13:58:38.789209",
   "version": "2.3.4"
  }
 },
 "nbformat": 4,
 "nbformat_minor": 5
}
